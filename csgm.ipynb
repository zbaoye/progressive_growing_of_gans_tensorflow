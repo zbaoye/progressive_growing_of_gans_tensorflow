{
 "cells": [
  {
   "cell_type": "code",
   "execution_count": null,
   "metadata": {},
   "outputs": [],
   "source": []
  },
  {
   "cell_type": "code",
   "execution_count": null,
   "metadata": {},
   "outputs": [],
   "source": [
    "[9,1],[17,1],[25,1],[33,1],[41,1],[49,1]\n",
    "[13,5],[21,5],[29,5],[37,5],[45,5],[53,5]\n",
    "[9,9],[17,9],[25,9],[33,9],[41,9],[49,9]\n",
    "[13,13],[21,13],[29,13],[37,13],[45,13],[53,13]"
   ]
  }
 ],
 "metadata": {
  "kernelspec": {
   "display_name": "Python [conda env:py2]",
   "language": "python",
   "name": "conda-env-py2-py"
  },
  "language_info": {
   "codemirror_mode": {
    "name": "ipython",
    "version": 2
   },
   "file_extension": ".py",
   "mimetype": "text/x-python",
   "name": "python",
   "nbconvert_exporter": "python",
   "pygments_lexer": "ipython2",
   "version": "2.7.17"
  }
 },
 "nbformat": 4,
 "nbformat_minor": 2
}
